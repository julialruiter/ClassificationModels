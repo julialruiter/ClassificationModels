{
 "cells": [
  {
   "cell_type": "markdown",
   "id": "c8a83a84",
   "metadata": {},
   "source": [
    "Assignment 9 \n",
    "Julia Ruiter\n",
    "\n",
    "In the diabetes.csv dataset, the column label represents the class label of the record (268 of 768 are 1 – diabetic, the others are 0). You have to apply three different classification techniques to predict the label of each record (You may use SVM, Random Forests and Neural Networks)."
   ]
  },
  {
   "cell_type": "code",
   "execution_count": 81,
   "id": "bfcd1d82",
   "metadata": {},
   "outputs": [],
   "source": [
    "# libraries\n",
    "# dataframes\n",
    "import numpy as np\n",
    "import pandas as pd\n",
    "\n",
    "# linear models\n",
    "from sklearn import linear_model\n",
    "from sklearn.linear_model import LinearRegression\n",
    "from sklearn import metrics\n",
    "from sklearn.linear_model import LogisticRegression\n",
    "\n",
    "# import specific log regression libraries -- not used in this example\n",
    "import random\n",
    "from sklearn.preprocessing import PolynomialFeatures\n",
    "from sklearn.metrics import mean_squared_error, r2_score\n",
    "\n",
    "# random forest models\n",
    "from sklearn.datasets import make_classification\n",
    "from sklearn.ensemble import RandomForestRegressor\n",
    "from sklearn.ensemble import RandomForestClassifier\n",
    "\n",
    "# for svm\n",
    "from sklearn.svm import SVC\n",
    "\n",
    "# for the confusion matrix outputs\n",
    "from sklearn.metrics import confusion_matrix   "
   ]
  },
  {
   "cell_type": "code",
   "execution_count": 3,
   "id": "43b67378",
   "metadata": {},
   "outputs": [
    {
     "data": {
      "text/html": [
       "<div>\n",
       "<style scoped>\n",
       "    .dataframe tbody tr th:only-of-type {\n",
       "        vertical-align: middle;\n",
       "    }\n",
       "\n",
       "    .dataframe tbody tr th {\n",
       "        vertical-align: top;\n",
       "    }\n",
       "\n",
       "    .dataframe thead th {\n",
       "        text-align: right;\n",
       "    }\n",
       "</style>\n",
       "<table border=\"1\" class=\"dataframe\">\n",
       "  <thead>\n",
       "    <tr style=\"text-align: right;\">\n",
       "      <th></th>\n",
       "      <th>Pregnancies</th>\n",
       "      <th>Glucose</th>\n",
       "      <th>BloodPressure</th>\n",
       "      <th>SkinThickness</th>\n",
       "      <th>Insulin</th>\n",
       "      <th>BMI</th>\n",
       "      <th>DiabetesPedigreeFunction</th>\n",
       "      <th>Age</th>\n",
       "      <th>Outcome</th>\n",
       "    </tr>\n",
       "  </thead>\n",
       "  <tbody>\n",
       "    <tr>\n",
       "      <th>0</th>\n",
       "      <td>5</td>\n",
       "      <td>155</td>\n",
       "      <td>84</td>\n",
       "      <td>44</td>\n",
       "      <td>545</td>\n",
       "      <td>38.7</td>\n",
       "      <td>0.619</td>\n",
       "      <td>34</td>\n",
       "      <td>0</td>\n",
       "    </tr>\n",
       "    <tr>\n",
       "      <th>1</th>\n",
       "      <td>4</td>\n",
       "      <td>99</td>\n",
       "      <td>76</td>\n",
       "      <td>15</td>\n",
       "      <td>51</td>\n",
       "      <td>23.2</td>\n",
       "      <td>0.223</td>\n",
       "      <td>21</td>\n",
       "      <td>0</td>\n",
       "    </tr>\n",
       "    <tr>\n",
       "      <th>2</th>\n",
       "      <td>6</td>\n",
       "      <td>111</td>\n",
       "      <td>64</td>\n",
       "      <td>39</td>\n",
       "      <td>0</td>\n",
       "      <td>34.2</td>\n",
       "      <td>0.260</td>\n",
       "      <td>24</td>\n",
       "      <td>0</td>\n",
       "    </tr>\n",
       "    <tr>\n",
       "      <th>3</th>\n",
       "      <td>1</td>\n",
       "      <td>97</td>\n",
       "      <td>64</td>\n",
       "      <td>19</td>\n",
       "      <td>82</td>\n",
       "      <td>18.2</td>\n",
       "      <td>0.299</td>\n",
       "      <td>21</td>\n",
       "      <td>0</td>\n",
       "    </tr>\n",
       "    <tr>\n",
       "      <th>4</th>\n",
       "      <td>4</td>\n",
       "      <td>141</td>\n",
       "      <td>74</td>\n",
       "      <td>0</td>\n",
       "      <td>0</td>\n",
       "      <td>27.6</td>\n",
       "      <td>0.244</td>\n",
       "      <td>40</td>\n",
       "      <td>0</td>\n",
       "    </tr>\n",
       "  </tbody>\n",
       "</table>\n",
       "</div>"
      ],
      "text/plain": [
       "   Pregnancies  Glucose  BloodPressure  SkinThickness  Insulin   BMI  \\\n",
       "0            5      155             84             44      545  38.7   \n",
       "1            4       99             76             15       51  23.2   \n",
       "2            6      111             64             39        0  34.2   \n",
       "3            1       97             64             19       82  18.2   \n",
       "4            4      141             74              0        0  27.6   \n",
       "\n",
       "   DiabetesPedigreeFunction  Age  Outcome  \n",
       "0                     0.619   34        0  \n",
       "1                     0.223   21        0  \n",
       "2                     0.260   24        0  \n",
       "3                     0.299   21        0  \n",
       "4                     0.244   40        0  "
      ]
     },
     "execution_count": 3,
     "metadata": {},
     "output_type": "execute_result"
    }
   ],
   "source": [
    "# import csv file and create df\n",
    "diabetes_df  = pd.read_csv(\"diabetes.csv\")  # 768 tuples\n",
    "diabetes_df = diabetes_df.sample(frac=1).reset_index(drop=True)  # randomly reorder df rows and delete initial indexes\n",
    "diabetes_df.head()  # preview df"
   ]
  },
  {
   "cell_type": "code",
   "execution_count": 22,
   "id": "18f488a9",
   "metadata": {},
   "outputs": [],
   "source": [
    "# test and training sets\n",
    "\n",
    "diabetes_test = diabetes_df.sample(frac=0.25,random_state=42)  #random state is a seed value, put 25% in test set\n",
    "diabetes_training = diabetes_df.drop(diabetes_test.index)   # the rest\n",
    "\n",
    "len(diabetes_training)   # check that 75% = 576 tuples like in R code ==> yes\n",
    "\n",
    "\n",
    "# set up the subsets; y is 'Outcome'\n",
    "x_train = diabetes_training.loc[:, diabetes_training.columns != 'Outcome']\n",
    "y_train = diabetes_training.loc[:, diabetes_training.columns == 'Outcome']\n",
    "\n",
    "x_test = diabetes_test.loc[:, diabetes_test.columns != 'Outcome']\n",
    "y_test = diabetes_test.loc[:, diabetes_test.columns == 'Outcome']\n",
    "\n",
    "y_test_df = pd.DataFrame(y_test)  # for augmenting results later"
   ]
  },
  {
   "cell_type": "markdown",
   "id": "487f6f56",
   "metadata": {},
   "source": [
    "METHOD 1: Linear Regression\n",
    "\n",
    "Exercise 2 - Linear Regression\n",
    "Train the model using the training data."
   ]
  },
  {
   "cell_type": "code",
   "execution_count": 62,
   "id": "aad0cb04",
   "metadata": {},
   "outputs": [
    {
     "data": {
      "text/plain": [
       "LinearRegression()"
      ]
     },
     "execution_count": 62,
     "metadata": {},
     "output_type": "execute_result"
    }
   ],
   "source": [
    "linear_regressor = LinearRegression() # create object for the class\n",
    "linear_regressor.fit(x_train, y_train) # perform linear regression"
   ]
  },
  {
   "cell_type": "markdown",
   "id": "9999f6ba",
   "metadata": {},
   "source": [
    "Exercise 3 - Linear Regression\n",
    "Use the model to predict the labels of the records in the test data."
   ]
  },
  {
   "cell_type": "code",
   "execution_count": 68,
   "id": "f89e0d8a",
   "metadata": {},
   "outputs": [
    {
     "data": {
      "text/html": [
       "<div>\n",
       "<style scoped>\n",
       "    .dataframe tbody tr th:only-of-type {\n",
       "        vertical-align: middle;\n",
       "    }\n",
       "\n",
       "    .dataframe tbody tr th {\n",
       "        vertical-align: top;\n",
       "    }\n",
       "\n",
       "    .dataframe thead th {\n",
       "        text-align: right;\n",
       "    }\n",
       "</style>\n",
       "<table border=\"1\" class=\"dataframe\">\n",
       "  <thead>\n",
       "    <tr style=\"text-align: right;\">\n",
       "      <th></th>\n",
       "      <th>pred</th>\n",
       "    </tr>\n",
       "  </thead>\n",
       "  <tbody>\n",
       "    <tr>\n",
       "      <th>0</th>\n",
       "      <td>0.663746</td>\n",
       "    </tr>\n",
       "    <tr>\n",
       "      <th>1</th>\n",
       "      <td>0.527846</td>\n",
       "    </tr>\n",
       "    <tr>\n",
       "      <th>2</th>\n",
       "      <td>0.124294</td>\n",
       "    </tr>\n",
       "    <tr>\n",
       "      <th>3</th>\n",
       "      <td>0.372113</td>\n",
       "    </tr>\n",
       "    <tr>\n",
       "      <th>4</th>\n",
       "      <td>0.504868</td>\n",
       "    </tr>\n",
       "    <tr>\n",
       "      <th>...</th>\n",
       "      <td>...</td>\n",
       "    </tr>\n",
       "    <tr>\n",
       "      <th>187</th>\n",
       "      <td>0.725628</td>\n",
       "    </tr>\n",
       "    <tr>\n",
       "      <th>188</th>\n",
       "      <td>0.748765</td>\n",
       "    </tr>\n",
       "    <tr>\n",
       "      <th>189</th>\n",
       "      <td>0.219524</td>\n",
       "    </tr>\n",
       "    <tr>\n",
       "      <th>190</th>\n",
       "      <td>-0.198975</td>\n",
       "    </tr>\n",
       "    <tr>\n",
       "      <th>191</th>\n",
       "      <td>0.644586</td>\n",
       "    </tr>\n",
       "  </tbody>\n",
       "</table>\n",
       "<p>192 rows × 1 columns</p>\n",
       "</div>"
      ],
      "text/plain": [
       "         pred\n",
       "0    0.663746\n",
       "1    0.527846\n",
       "2    0.124294\n",
       "3    0.372113\n",
       "4    0.504868\n",
       "..        ...\n",
       "187  0.725628\n",
       "188  0.748765\n",
       "189  0.219524\n",
       "190 -0.198975\n",
       "191  0.644586\n",
       "\n",
       "[192 rows x 1 columns]"
      ]
     },
     "execution_count": 68,
     "metadata": {},
     "output_type": "execute_result"
    }
   ],
   "source": [
    "y_predicted_linear = linear_regressor.predict(x_test)   # make predictions\n",
    "y_linear = pd.DataFrame(y_predicted_linear, columns=['pred'])  # convert prediction to dataframe\n",
    "y_linear\n",
    "\n",
    "# WILL NOT APPEND ==> can use direct values in next step\n",
    "#y_test_df['y_linear'] = y_predicted_linear # append column with predicted values\n",
    "#y_test_df  # output actual versus predicted values"
   ]
  },
  {
   "cell_type": "markdown",
   "id": "78d440a9",
   "metadata": {},
   "source": [
    "Exercise 4 - Linear Regression\n",
    "Compute and display the confusion matrix."
   ]
  },
  {
   "cell_type": "code",
   "execution_count": 78,
   "id": "f94aa137",
   "metadata": {},
   "outputs": [
    {
     "data": {
      "text/plain": [
       "array([[108,  16],\n",
       "       [ 30,  38]], dtype=int64)"
      ]
     },
     "execution_count": 78,
     "metadata": {},
     "output_type": "execute_result"
    }
   ],
   "source": [
    "# set threshold value for predictions\n",
    "linear_cutoff = 0.75\n",
    "\n",
    "#y_linear.pred.apply(lambda x: x/x if x >= linear_cutoff else x*0)\n",
    "\n",
    "# reassign values based on threshold\n",
    "y_linear[y_linear['pred'] >= linear_cutoff] = 1\n",
    "y_linear[y_linear['pred'] < linear_cutoff] = 0\n",
    "\n",
    "#y_linear\n",
    "confusion_matrix(y_test_df.iloc[:, 0], y_linear.iloc[:, 0])\n",
    "# not very good -- similar to r output"
   ]
  },
  {
   "cell_type": "markdown",
   "id": "ea7a6fe7",
   "metadata": {},
   "source": [
    "METHOD 2: Random Forests\n",
    "\n",
    "Exercise 2 - Random Forests\n",
    "Train the model using the training data."
   ]
  },
  {
   "cell_type": "code",
   "execution_count": 92,
   "id": "498b5655",
   "metadata": {},
   "outputs": [
    {
     "data": {
      "text/plain": [
       "RandomForestRegressor(n_estimators=5, random_state=42)"
      ]
     },
     "execution_count": 92,
     "metadata": {},
     "output_type": "execute_result"
    }
   ],
   "source": [
    "forest_regressor = RandomForestRegressor(n_estimators = 5, random_state = 42)   # create object for the class\n",
    "forest_regressor.fit(x_train, y_train.values.ravel())     # perform forest regression\n",
    "# ravel() is needed to make sure that the y is a numeric output"
   ]
  },
  {
   "cell_type": "markdown",
   "id": "1d438e10",
   "metadata": {},
   "source": [
    "Exercise 3 - Random Forests\n",
    "Use the model to predict the labels of the records in the test data."
   ]
  },
  {
   "cell_type": "code",
   "execution_count": 93,
   "id": "e4482484",
   "metadata": {},
   "outputs": [
    {
     "data": {
      "text/html": [
       "<div>\n",
       "<style scoped>\n",
       "    .dataframe tbody tr th:only-of-type {\n",
       "        vertical-align: middle;\n",
       "    }\n",
       "\n",
       "    .dataframe tbody tr th {\n",
       "        vertical-align: top;\n",
       "    }\n",
       "\n",
       "    .dataframe thead th {\n",
       "        text-align: right;\n",
       "    }\n",
       "</style>\n",
       "<table border=\"1\" class=\"dataframe\">\n",
       "  <thead>\n",
       "    <tr style=\"text-align: right;\">\n",
       "      <th></th>\n",
       "      <th>pred</th>\n",
       "    </tr>\n",
       "  </thead>\n",
       "  <tbody>\n",
       "    <tr>\n",
       "      <th>0</th>\n",
       "      <td>0.6</td>\n",
       "    </tr>\n",
       "    <tr>\n",
       "      <th>1</th>\n",
       "      <td>0.8</td>\n",
       "    </tr>\n",
       "    <tr>\n",
       "      <th>2</th>\n",
       "      <td>0.0</td>\n",
       "    </tr>\n",
       "    <tr>\n",
       "      <th>3</th>\n",
       "      <td>1.0</td>\n",
       "    </tr>\n",
       "    <tr>\n",
       "      <th>4</th>\n",
       "      <td>0.6</td>\n",
       "    </tr>\n",
       "    <tr>\n",
       "      <th>...</th>\n",
       "      <td>...</td>\n",
       "    </tr>\n",
       "    <tr>\n",
       "      <th>187</th>\n",
       "      <td>0.6</td>\n",
       "    </tr>\n",
       "    <tr>\n",
       "      <th>188</th>\n",
       "      <td>0.8</td>\n",
       "    </tr>\n",
       "    <tr>\n",
       "      <th>189</th>\n",
       "      <td>0.0</td>\n",
       "    </tr>\n",
       "    <tr>\n",
       "      <th>190</th>\n",
       "      <td>0.0</td>\n",
       "    </tr>\n",
       "    <tr>\n",
       "      <th>191</th>\n",
       "      <td>1.0</td>\n",
       "    </tr>\n",
       "  </tbody>\n",
       "</table>\n",
       "<p>192 rows × 1 columns</p>\n",
       "</div>"
      ],
      "text/plain": [
       "     pred\n",
       "0     0.6\n",
       "1     0.8\n",
       "2     0.0\n",
       "3     1.0\n",
       "4     0.6\n",
       "..    ...\n",
       "187   0.6\n",
       "188   0.8\n",
       "189   0.0\n",
       "190   0.0\n",
       "191   1.0\n",
       "\n",
       "[192 rows x 1 columns]"
      ]
     },
     "execution_count": 93,
     "metadata": {},
     "output_type": "execute_result"
    }
   ],
   "source": [
    "y_predicted_forest = forest_regressor.predict(x_test)   # make predictions\n",
    "y_forest = pd.DataFrame(y_predicted_forest, columns=['pred'])  # convert prediction to dataframe\n",
    "y_forest"
   ]
  },
  {
   "cell_type": "markdown",
   "id": "00991c20",
   "metadata": {},
   "source": [
    "Exercise 4 - Random Forests\n",
    "Compute and display the confusion matrix."
   ]
  },
  {
   "cell_type": "code",
   "execution_count": 99,
   "id": "c8550cab",
   "metadata": {},
   "outputs": [
    {
     "data": {
      "text/plain": [
       "array([[115,   9],\n",
       "       [ 35,  33]], dtype=int64)"
      ]
     },
     "execution_count": 99,
     "metadata": {},
     "output_type": "execute_result"
    }
   ],
   "source": [
    "# set threshold value for predictions\n",
    "forest_cutoff = 0.8\n",
    "\n",
    "#y_linear.pred.apply(lambda x: x/x if x >= linear_cutoff else x*0)\n",
    "\n",
    "# reassign values based on threshold\n",
    "y_forest[y_forest['pred'] >= forest_cutoff] = 1\n",
    "y_forest[y_forest['pred'] < forest_cutoff] = 0\n",
    "\n",
    "#y_linear\n",
    "confusion_matrix(y_test_df.iloc[:, 0], y_forest.iloc[:, 0])\n",
    "# not very good -- somehow much worse than r output, even when I change the threshold cutoff value"
   ]
  },
  {
   "cell_type": "markdown",
   "id": "a9a9fd50",
   "metadata": {},
   "source": [
    "METHOD 3: SVM\n",
    "\n",
    "Exercise 2 - SVM\n",
    "Train the model using the training data."
   ]
  },
  {
   "cell_type": "code",
   "execution_count": 101,
   "id": "04fd2735",
   "metadata": {},
   "outputs": [
    {
     "data": {
      "text/plain": [
       "SVC(kernel='linear')"
      ]
     },
     "execution_count": 101,
     "metadata": {},
     "output_type": "execute_result"
    }
   ],
   "source": [
    "svclassifier = SVC(kernel='linear')\n",
    "\n",
    "#svm_regressor = RandomForestRegressor(n_estimators = 5, random_state = 42)   # create object for the class\n",
    "svclassifier.fit(x_train, y_train.values.ravel())     # perform forest regression\n",
    "# ravel() is needed to make sure that the y is a numeric output"
   ]
  },
  {
   "cell_type": "markdown",
   "id": "493e7aef",
   "metadata": {},
   "source": [
    "Exercise 3 - SVM\n",
    "Use the model to predict the labels of the records in the test data."
   ]
  },
  {
   "cell_type": "code",
   "execution_count": 102,
   "id": "d13bdea1",
   "metadata": {},
   "outputs": [
    {
     "data": {
      "text/html": [
       "<div>\n",
       "<style scoped>\n",
       "    .dataframe tbody tr th:only-of-type {\n",
       "        vertical-align: middle;\n",
       "    }\n",
       "\n",
       "    .dataframe tbody tr th {\n",
       "        vertical-align: top;\n",
       "    }\n",
       "\n",
       "    .dataframe thead th {\n",
       "        text-align: right;\n",
       "    }\n",
       "</style>\n",
       "<table border=\"1\" class=\"dataframe\">\n",
       "  <thead>\n",
       "    <tr style=\"text-align: right;\">\n",
       "      <th></th>\n",
       "      <th>pred</th>\n",
       "    </tr>\n",
       "  </thead>\n",
       "  <tbody>\n",
       "    <tr>\n",
       "      <th>0</th>\n",
       "      <td>1</td>\n",
       "    </tr>\n",
       "    <tr>\n",
       "      <th>1</th>\n",
       "      <td>1</td>\n",
       "    </tr>\n",
       "    <tr>\n",
       "      <th>2</th>\n",
       "      <td>0</td>\n",
       "    </tr>\n",
       "    <tr>\n",
       "      <th>3</th>\n",
       "      <td>0</td>\n",
       "    </tr>\n",
       "    <tr>\n",
       "      <th>4</th>\n",
       "      <td>0</td>\n",
       "    </tr>\n",
       "    <tr>\n",
       "      <th>...</th>\n",
       "      <td>...</td>\n",
       "    </tr>\n",
       "    <tr>\n",
       "      <th>187</th>\n",
       "      <td>1</td>\n",
       "    </tr>\n",
       "    <tr>\n",
       "      <th>188</th>\n",
       "      <td>1</td>\n",
       "    </tr>\n",
       "    <tr>\n",
       "      <th>189</th>\n",
       "      <td>0</td>\n",
       "    </tr>\n",
       "    <tr>\n",
       "      <th>190</th>\n",
       "      <td>0</td>\n",
       "    </tr>\n",
       "    <tr>\n",
       "      <th>191</th>\n",
       "      <td>1</td>\n",
       "    </tr>\n",
       "  </tbody>\n",
       "</table>\n",
       "<p>192 rows × 1 columns</p>\n",
       "</div>"
      ],
      "text/plain": [
       "     pred\n",
       "0       1\n",
       "1       1\n",
       "2       0\n",
       "3       0\n",
       "4       0\n",
       "..    ...\n",
       "187     1\n",
       "188     1\n",
       "189     0\n",
       "190     0\n",
       "191     1\n",
       "\n",
       "[192 rows x 1 columns]"
      ]
     },
     "execution_count": 102,
     "metadata": {},
     "output_type": "execute_result"
    }
   ],
   "source": [
    "y_predicted_svm = svclassifier.predict(x_test)   # make predictions\n",
    "y_svm = pd.DataFrame(y_predicted_svm, columns=['pred'])  # convert prediction to dataframe\n",
    "y_svm"
   ]
  },
  {
   "cell_type": "markdown",
   "id": "0eb19eb0",
   "metadata": {},
   "source": [
    "Exercise 4 - SVM\n",
    "Compute and display the confusion matrix."
   ]
  },
  {
   "cell_type": "code",
   "execution_count": 103,
   "id": "0991cac5",
   "metadata": {},
   "outputs": [
    {
     "data": {
      "text/plain": [
       "array([[108,  16],\n",
       "       [ 31,  37]], dtype=int64)"
      ]
     },
     "execution_count": 103,
     "metadata": {},
     "output_type": "execute_result"
    }
   ],
   "source": [
    "# no need to round values here -- already classified as 1 or 0\n",
    "\n",
    "confusion_matrix(y_test_df.iloc[:, 0], y_svm.iloc[:, 0])\n",
    "# also not very good -- but about on par with the other 2 methods"
   ]
  },
  {
   "cell_type": "code",
   "execution_count": null,
   "id": "d6686c50",
   "metadata": {},
   "outputs": [],
   "source": []
  }
 ],
 "metadata": {
  "kernelspec": {
   "display_name": "Python 3",
   "language": "python",
   "name": "python3"
  },
  "language_info": {
   "codemirror_mode": {
    "name": "ipython",
    "version": 3
   },
   "file_extension": ".py",
   "mimetype": "text/x-python",
   "name": "python",
   "nbconvert_exporter": "python",
   "pygments_lexer": "ipython3",
   "version": "3.8.8"
  }
 },
 "nbformat": 4,
 "nbformat_minor": 5
}
